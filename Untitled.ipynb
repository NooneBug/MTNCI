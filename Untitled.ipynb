{
 "cells": [
  {
   "cell_type": "code",
   "execution_count": 1,
   "metadata": {},
   "outputs": [],
   "source": [
    "import pickle\n",
    "import torch\n",
    "import sys\n",
    "sys.path.append('./preprocessing/')\n",
    "from utils import load_data_with_pickle, save_data_with_pickle\n",
    "import numpy as np\n",
    "from DatasetManager import DatasetManager\n",
    "\n",
    "EMBEDDING_PATH = '../source_files/embeddings/'\n",
    "\n",
    "PATH_TO_HYPERBOLIC_EMBEDDING = EMBEDDING_PATH + '10_3_final_tree_HyperE_MTNCI'\n",
    "\n",
    "PATH_TO_DISTRIBUTIONAL_EMBEDDING = EMBEDDING_PATH + '10_3_final_tree_type2vec_MTNCI'\n",
    "\n",
    "CONCEPT_EMBEDDING_PATHS = [PATH_TO_DISTRIBUTIONAL_EMBEDDING, PATH_TO_HYPERBOLIC_EMBEDDING]\n",
    "\n",
    "DATASET_PATH = '../source_files/vectors/'\n",
    "\n",
    "X_PATH = DATASET_PATH + 'X_10_3'\n",
    "Y_PATH = DATASET_PATH + 'Y_10_3'\n",
    "ENTITIES_PATH = DATASET_PATH + 'entities_10_3'"
   ]
  },
  {
   "cell_type": "code",
   "execution_count": 2,
   "metadata": {},
   "outputs": [],
   "source": [
    "X = load_data_with_pickle(X_PATH)\n",
    "Y = load_data_with_pickle(Y_PATH)\n",
    "entities = load_data_with_pickle(ENTITIES_PATH)"
   ]
  },
  {
   "cell_type": "code",
   "execution_count": 3,
   "metadata": {},
   "outputs": [
    {
     "data": {
      "text/plain": [
       "1582474"
      ]
     },
     "execution_count": 3,
     "metadata": {},
     "output_type": "execute_result"
    }
   ],
   "source": [
    "len(X)"
   ]
  },
  {
   "cell_type": "code",
   "execution_count": 4,
   "metadata": {},
   "outputs": [
    {
     "data": {
      "text/plain": [
       "1582474"
      ]
     },
     "execution_count": 4,
     "metadata": {},
     "output_type": "execute_result"
    }
   ],
   "source": [
    "len(Y)"
   ]
  },
  {
   "cell_type": "code",
   "execution_count": 5,
   "metadata": {},
   "outputs": [
    {
     "data": {
      "text/plain": [
       "1582474"
      ]
     },
     "execution_count": 5,
     "metadata": {},
     "output_type": "execute_result"
    }
   ],
   "source": [
    "len(entities)"
   ]
  },
  {
   "cell_type": "code",
   "execution_count": 6,
   "metadata": {},
   "outputs": [],
   "source": [
    "from CorpusManager import CorpusManager\n",
    "\n",
    "c = CorpusManager()"
   ]
  },
  {
   "cell_type": "code",
   "execution_count": null,
   "metadata": {},
   "outputs": [],
   "source": [
    "c.avoid_multilabeling()"
   ]
  },
  {
   "cell_type": "code",
   "execution_count": 7,
   "metadata": {},
   "outputs": [],
   "source": [
    "f_e_d = load_data_with_pickle('../source_files/pickles/10_3_found_entity_dict')"
   ]
  },
  {
   "cell_type": "code",
   "execution_count": 8,
   "metadata": {},
   "outputs": [],
   "source": [
    "tree = load_data_with_pickle('../source_files/pickles/10_3_final_tree')"
   ]
  },
  {
   "cell_type": "code",
   "execution_count": 9,
   "metadata": {},
   "outputs": [
    {
     "data": {
      "text/plain": [
       "85505"
      ]
     },
     "execution_count": 9,
     "metadata": {},
     "output_type": "execute_result"
    }
   ],
   "source": [
    "from collections import defaultdict\n",
    "reverse_dict = defaultdict(list)\n",
    "\n",
    "for k, words in f_e_d.items():\n",
    "    for w in words:\n",
    "        reverse_dict[w].append(k)\n",
    "len(reverse_dict)"
   ]
  },
  {
   "cell_type": "code",
   "execution_count": 10,
   "metadata": {},
   "outputs": [
    {
     "data": {
      "text/plain": [
       "['Broadcaster', 'Station', 'RadioStation']"
      ]
     },
     "execution_count": 10,
     "metadata": {},
     "output_type": "execute_result"
    }
   ],
   "source": [
    "reverse_dict['time']"
   ]
  },
  {
   "cell_type": "code",
   "execution_count": 11,
   "metadata": {},
   "outputs": [
    {
     "name": "stdout",
     "output_type": "stream",
     "text": [
      "Multilabel alerts: 38988\n",
      "Multilabel alerts: 0\n"
     ]
    }
   ],
   "source": [
    "found_entity_dict = c.avoid_multilabeling(f_e_d, tree, file = 'preprocessing/logs/avoid_multilabeling.txt')"
   ]
  },
  {
   "cell_type": "code",
   "execution_count": 12,
   "metadata": {},
   "outputs": [
    {
     "data": {
      "text/plain": [
       "85505"
      ]
     },
     "execution_count": 12,
     "metadata": {},
     "output_type": "execute_result"
    }
   ],
   "source": [
    "from collections import defaultdict\n",
    "reverse_dict = defaultdict(list)\n",
    "\n",
    "for k, words in found_entity_dict.items():\n",
    "    for w in words:\n",
    "        reverse_dict[w].append(k)\n",
    "len(reverse_dict)"
   ]
  },
  {
   "cell_type": "code",
   "execution_count": 13,
   "metadata": {},
   "outputs": [
    {
     "data": {
      "text/plain": [
       "['Broadcaster']"
      ]
     },
     "execution_count": 13,
     "metadata": {},
     "output_type": "execute_result"
    }
   ],
   "source": [
    "reverse_dict['time']"
   ]
  },
  {
   "cell_type": "code",
   "execution_count": 18,
   "metadata": {},
   "outputs": [
    {
     "name": "stdout",
     "output_type": "stream",
     "text": [
      "international: ['TelevisionStation', 'Automobile']\n",
      "goose: ['Bird']\n",
      "nature: ['Agent']\n",
      "august: ['ClassicalMusicComposition', 'Song', 'School', 'Holiday']\n",
      "american: ['Device', 'Weapon', 'SportsEvent']\n",
      "the: ['Group', 'TelevisionShow', 'RadioProgram', 'Non-ProfitOrganisation', 'Book', 'Band', 'RadioStation', 'TelevisionEpisode', 'Comic', 'Work', 'WrittenWork']\n",
      "well: ['MusicalWork', 'Album']\n",
      "childhood: ['Bridge']\n",
      "congress: ['OfficeHolder']\n",
      "poet: ['Person']\n",
      "time: ['Broadcaster', 'Station', 'RadioStation']\n",
      "tribune: ['Person']\n",
      "paris: ['Settlement', 'CelestialBody', 'Place', 'Protein', 'Planet', 'PopulatedPlace']\n",
      "cricket: ['Activity', 'Sport', 'VideoGame']\n",
      "writer: ['Person']\n",
      "kennedy: ['CelestialBody', 'Planet']\n",
      "trademark: ['Broadcaster']\n",
      "arts: ['Protein']\n",
      "library: ['Book']\n",
      "alabama: ['AdministrativeRegion', 'Group', 'Band', 'Place', 'PopulatedPlace', 'Region']\n",
      "house: ['HistoricPlace', 'Building']\n",
      "nickname: ['Person']\n",
      "chair: ['MusicalWork']\n",
      "children: ['Group', 'Non-ProfitOrganisation']\n",
      "new: ['Magazine', 'PeriodicalLiterature']\n",
      "john: ['Single']\n",
      "school: ['University']\n",
      "poems: ['Magazine']\n",
      "america: ['CelestialBody', 'TelevisionStation', 'Planet']\n",
      "press: ['Publisher']\n",
      "father: ['Organisation']\n",
      "south: ['Group', 'Country', 'RoadJunction']\n",
      "india: ['MusicalArtist', 'Country', 'Place', 'PopulatedPlace']\n",
      "high: ['Sales', 'HockeyTeam']\n",
      "kanpur: ['Settlement', 'City', 'Place', 'PopulatedPlace']\n",
      "way: ['ChemicalSubstance', 'Drug', 'Holiday']\n",
      "hindi: ['Language', 'Building']\n",
      "head: ['AnatomicalStructure']\n",
      "system: ['Software', 'Work']\n",
      "district: ['Film', 'Organisation', 'Work']\n"
     ]
    }
   ],
   "source": [
    "seen = []\n",
    "i = 0\n",
    "while len(seen) < 40:\n",
    "    e = entities[i]\n",
    "    y = Y[i]\n",
    "    \n",
    "    if e not in seen:\n",
    "        seen.append(e)\n",
    "        print('{}: {}'.format(e, y))\n",
    "    i += 1"
   ]
  },
  {
   "cell_type": "code",
   "execution_count": null,
   "metadata": {},
   "outputs": [],
   "source": []
  }
 ],
 "metadata": {
  "kernelspec": {
   "display_name": "MTNCI_pytorch_kernel",
   "language": "python",
   "name": "mtnci_pytorch_kernel"
  },
  "language_info": {
   "codemirror_mode": {
    "name": "ipython",
    "version": 3
   },
   "file_extension": ".py",
   "mimetype": "text/x-python",
   "name": "python",
   "nbconvert_exporter": "python",
   "pygments_lexer": "ipython3",
   "version": "3.6.9"
  }
 },
 "nbformat": 4,
 "nbformat_minor": 2
}
