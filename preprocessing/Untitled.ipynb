{
 "cells": [
  {
   "cell_type": "code",
   "execution_count": 1,
   "metadata": {},
   "outputs": [],
   "source": [
    "from EntityNameRetriever import EntityNameRetriever\n",
    "from graph import graph_from_edgelist, remove_void_types\n",
    "import networkx as nx\n",
    "from CorpusManager import CorpusManager\n",
    "import pickle\n",
    "from utils import save_data_with_pickle, load_data_with_pickle\n",
    "import time"
   ]
  },
  {
   "cell_type": "code",
   "execution_count": 2,
   "metadata": {},
   "outputs": [],
   "source": [
    "# List of classes used to test the correctness of the workflow\n",
    "LIST_OF_CLASSES = ['City', 'Mosque', 'Animal']\n",
    "# PATH in which utility files are stored\n",
    "PICKLES_PATH = '../../source_files/pickles/'\n",
    "\n",
    "# PATH that refers to the file which let the building of the Ontology Graph\n",
    "PATH_TO_EDGELIST = PICKLES_PATH + 'dbpedia_edgelist_no_closure.tsv'\n",
    "# PATH to the corpus from which information are extracted\n",
    "CORPUS_PATH = '/datahdd/vmanuel/ELMo/Corpora/shuffled_text_with_words'"
   ]
  },
  {
   "cell_type": "code",
   "execution_count": 3,
   "metadata": {},
   "outputs": [
    {
     "name": "stdout",
     "output_type": "stream",
     "text": [
      "the input graph is a tree: True\n"
     ]
    }
   ],
   "source": [
    "try:\n",
    "    G = load_data_with_pickle(PICKLES_PATH + 'graph')\n",
    "except:\n",
    "    G = graph_from_edgelist(PATH_TO_EDGELIST)\n",
    "    save_data_with_pickle(PICKLES_PATH + 'graph', G)\n",
    "\n",
    "# Check if the built graph is a tree (it should be a tree because we need to use an Ontology Tree)\n",
    "print(\"the input graph is a tree: {}\".format(nx.is_tree(G)))"
   ]
  },
  {
   "cell_type": "code",
   "execution_count": 4,
   "metadata": {},
   "outputs": [],
   "source": [
    "list_of_classes = [n for n in G.nodes()]\n"
   ]
  },
  {
   "cell_type": "code",
   "execution_count": 5,
   "metadata": {},
   "outputs": [],
   "source": [
    "entity_dict = load_data_with_pickle(PICKLES_PATH + 'entity_dict')"
   ]
  },
  {
   "cell_type": "code",
   "execution_count": 6,
   "metadata": {},
   "outputs": [
    {
     "name": "stdout",
     "output_type": "stream",
     "text": [
      "the pruned graph is a tree: True\n"
     ]
    }
   ],
   "source": [
    "void_types = [t for t, v in entity_dict.items() if v == []]\n",
    "\n",
    "pruned_G = remove_void_types(G, void_types)\n",
    "print(\"the pruned graph is a tree: {}\".format(nx.is_tree(pruned_G)))"
   ]
  },
  {
   "cell_type": "code",
   "execution_count": 7,
   "metadata": {},
   "outputs": [
    {
     "data": {
      "text/plain": [
       "299"
      ]
     },
     "execution_count": 7,
     "metadata": {},
     "output_type": "execute_result"
    }
   ],
   "source": [
    "len(void_types)"
   ]
  },
  {
   "cell_type": "code",
   "execution_count": 9,
   "metadata": {},
   "outputs": [
    {
     "name": "stdout",
     "output_type": "stream",
     "text": [
      "read input corpus\n"
     ]
    },
    {
     "name": "stderr",
     "output_type": "stream",
     "text": [
      "100%|██████████| 4859518/4859518 [04:52<00:00, 16609.39it/s]  \n"
     ]
    }
   ],
   "source": [
    "c = CorpusManager()\n",
    "c.read_corpus(CORPUS_PATH)\n",
    "c.create_all_entities(entity_dict, concepts=list_of_classes)"
   ]
  },
  {
   "cell_type": "code",
   "execution_count": 12,
   "metadata": {},
   "outputs": [],
   "source": [
    "lengths = [len(w.split(' ')) for w in c.all_entities]"
   ]
  },
  {
   "cell_type": "code",
   "execution_count": 14,
   "metadata": {},
   "outputs": [],
   "source": [
    "import matplotlib.pyplot as plt"
   ]
  },
  {
   "cell_type": "code",
   "execution_count": 18,
   "metadata": {},
   "outputs": [
    {
     "data": {
      "text/plain": [
       "<BarContainer object of 20 artists>"
      ]
     },
     "execution_count": 18,
     "metadata": {},
     "output_type": "execute_result"
    },
    {
     "data": {
      "image/png": "[encoded data removed]",
      "text/plain": [
       "<Figure size 432x288 with 1 Axes>"
      ]
     },
     "metadata": {
      "needs_background": "light"
     },
     "output_type": "display_data"
    }
   ],
   "source": [
    "from collections import Counter\n",
    "c = Counter(lengths)\n",
    "plt.bar(c.keys(), c.values())"
   ]
  },
  {
   "cell_type": "code",
   "execution_count": 19,
   "metadata": {},
   "outputs": [
    {
     "data": {
      "text/plain": [
       "Counter({3: 425680,\n",
       "         2: 773176,\n",
       "         1: 183531,\n",
       "         5: 129200,\n",
       "         4: 243531,\n",
       "         6: 57826,\n",
       "         8: 15013,\n",
       "         11: 1251,\n",
       "         7: 29567,\n",
       "         10: 3100,\n",
       "         9: 6477,\n",
       "         16: 54,\n",
       "         12: 580,\n",
       "         13: 277,\n",
       "         14: 153,\n",
       "         20: 6,\n",
       "         17: 38,\n",
       "         15: 97,\n",
       "         19: 9,\n",
       "         18: 11})"
      ]
     },
     "execution_count": 19,
     "metadata": {},
     "output_type": "execute_result"
    }
   ],
   "source": [
    "c"
   ]
  },
  {
   "cell_type": "code",
   "execution_count": 23,
   "metadata": {},
   "outputs": [],
   "source": [
    "a = load_data_with_pickle('../../source_files/pickles/word_occurrence_index')"
   ]
  },
  {
   "cell_type": "code",
   "execution_count": 24,
   "metadata": {},
   "outputs": [],
   "source": [
    "import random"
   ]
  },
  {
   "cell_type": "code",
   "execution_count": 28,
   "metadata": {},
   "outputs": [
    {
     "ename": "AttributeError",
     "evalue": "module 'random' has no attribute 'frac'",
     "output_type": "error",
     "traceback": [
      "\u001b[0;31m--------------------------------------------------------------------------\u001b[0m",
      "\u001b[0;31mAttributeError\u001b[0m                           Traceback (most recent call last)",
      "\u001b[0;32m<ipython-input-28-330a45e58c83>\u001b[0m in \u001b[0;36m<module>\u001b[0;34m\u001b[0m\n\u001b[0;32m----> 1\u001b[0;31m \u001b[0mrandom\u001b[0m\u001b[0;34m.\u001b[0m\u001b[0mfrac\u001b[0m\u001b[0;34m(\u001b[0m\u001b[0;34m[\u001b[0m\u001b[0;36m1\u001b[0m\u001b[0;34m,\u001b[0m \u001b[0;36m2\u001b[0m\u001b[0;34m]\u001b[0m\u001b[0;34m,\u001b[0m \u001b[0;36m1\u001b[0m\u001b[0;34m)\u001b[0m\u001b[0;34m\u001b[0m\u001b[0;34m\u001b[0m\u001b[0m\n\u001b[0m",
      "\u001b[0;31mAttributeError\u001b[0m: module 'random' has no attribute 'frac'"
     ]
    }
   ],
   "source": [
    "random.([1, 2], 1)"
   ]
  },
  {
   "cell_type": "code",
   "execution_count": null,
   "metadata": {},
   "outputs": [],
   "source": []
  }
 ],
 "metadata": {
  "kernelspec": {
   "display_name": "Python 3.7.6 64-bit ('MTNCI': conda)",
   "language": "python",
   "name": "python37664bitmtncicondad1aa09012c6f4676a7e50dc769fdaa25"
  },
  "language_info": {
   "codemirror_mode": {
    "name": "ipython",
    "version": 3
   },
   "file_extension": ".py",
   "mimetype": "text/x-python",
   "name": "python",
   "nbconvert_exporter": "python",
   "pygments_lexer": "ipython3",
   "version": "3.6.10"
  }
 },
 "nbformat": 4,
 "nbformat_minor": 2
}
