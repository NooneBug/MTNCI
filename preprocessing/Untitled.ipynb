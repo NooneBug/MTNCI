{
 "cells": [
  {
   "cell_type": "code",
   "execution_count": 60,
   "metadata": {},
   "outputs": [],
   "source": [
    "from EntityNameRetriever import EntityNameRetriever\n",
    "from graph import graph_from_edgelist, remove_void_types\n",
    "import networkx as nx\n",
    "from CorpusManager import CorpusManager\n",
    "import pickle\n",
    "from utils import save_data_with_pickle, load_data_with_pickle\n",
    "import time"
   ]
  },
  {
   "cell_type": "code",
   "execution_count": 61,
   "metadata": {},
   "outputs": [],
   "source": [
    "# List of classes used to test the correctness of the workflow\n",
    "LIST_OF_CLASSES = ['City', 'Mosque', 'Animal']\n",
    "# PATH in which utility files are stored\n",
    "PICKLES_PATH = '../../source_files/pickles/'\n",
    "\n",
    "# PATH that refers to the file which let the building of the Ontology Graph\n",
    "PATH_TO_EDGELIST = PICKLES_PATH + 'dbpedia_edgelist_no_closure.tsv'\n",
    "# PATH to the corpus from which information are extracted\n",
    "CORPUS_PATH = '/datahdd/vmanuel/ELMo/Corpora/shuffled_text_with_words'"
   ]
  },
  {
   "cell_type": "code",
   "execution_count": 62,
   "metadata": {},
   "outputs": [
    {
     "name": "stdout",
     "output_type": "stream",
     "text": [
      "the input graph is a tree: True\n"
     ]
    }
   ],
   "source": [
    "try:\n",
    "    G = load_data_with_pickle(PICKLES_PATH + 'graph')\n",
    "except:\n",
    "    G = graph_from_edgelist(PATH_TO_EDGELIST)\n",
    "    save_data_with_pickle(PICKLES_PATH + 'graph', G)\n",
    "\n",
    "# Check if the built graph is a tree (it should be a tree because we need to use an Ontology Tree)\n",
    "print(\"the input graph is a tree: {}\".format(nx.is_tree(G)))"
   ]
  },
  {
   "cell_type": "code",
   "execution_count": 63,
   "metadata": {},
   "outputs": [],
   "source": [
    "list_of_classes = [n for n in G.nodes()]\n"
   ]
  },
  {
   "cell_type": "code",
   "execution_count": 64,
   "metadata": {},
   "outputs": [],
   "source": [
    "entity_dict = load_data_with_pickle(PICKLES_PATH + 'entity_dict')"
   ]
  },
  {
   "cell_type": "code",
   "execution_count": 65,
   "metadata": {},
   "outputs": [
    {
     "name": "stdout",
     "output_type": "stream",
     "text": [
      "the pruned graph is a tree: True\n"
     ]
    }
   ],
   "source": [
    "void_types = [t for t, v in entity_dict.items() if v == []]\n",
    "\n",
    "pruned_G = remove_void_types(G, void_types)\n",
    "print(\"the pruned graph is a tree: {}\".format(nx.is_tree(pruned_G)))"
   ]
  },
  {
   "cell_type": "code",
   "execution_count": 66,
   "metadata": {},
   "outputs": [
    {
     "data": {
      "text/plain": [
       "29"
      ]
     },
     "execution_count": 66,
     "metadata": {},
     "output_type": "execute_result"
    }
   ],
   "source": [
    "len(void_types)"
   ]
  },
  {
   "cell_type": "code",
   "execution_count": 75,
   "metadata": {},
   "outputs": [
    {
     "name": "stdout",
     "output_type": "stream",
     "text": [
      "read input corpus\n"
     ]
    },
    {
     "name": "stderr",
     "output_type": "stream",
     "text": [
      "100%|██████████| 1000/1000 [00:00<00:00, 2250.37it/s]\n"
     ]
    }
   ],
   "source": [
    "c = CorpusManager()\n",
    "c.read_corpus(CORPUS_PATH, length = 1000)\n",
    "c.create_all_entities(entity_dict, concepts=list_of_classes)"
   ]
  },
  {
   "cell_type": "code",
   "execution_count": 76,
   "metadata": {},
   "outputs": [],
   "source": [
    "lengths = [len(w.split(' ')) for w in c.all_entities]"
   ]
  },
  {
   "cell_type": "code",
   "execution_count": 77,
   "metadata": {},
   "outputs": [],
   "source": [
    "import matplotlib.pyplot as plt"
   ]
  },
  {
   "cell_type": "code",
   "execution_count": 78,
   "metadata": {},
   "outputs": [
    {
     "data": {
      "text/plain": [
       "<BarContainer object of 17 artists>"
      ]
     },
     "execution_count": 78,
     "metadata": {},
     "output_type": "execute_result"
    },
    {
     "data": {
      "image/png": "[encoded data removed]",
      "text/plain": [
       "<Figure size 432x288 with 1 Axes>"
      ]
     },
     "metadata": {
      "needs_background": "light"
     },
     "output_type": "display_data"
    }
   ],
   "source": [
    "from collections import Counter\n",
    "a = Counter(lengths)\n",
    "plt.bar(a.keys(), a.values())"
   ]
  },
  {
   "cell_type": "code",
   "execution_count": 79,
   "metadata": {},
   "outputs": [
    {
     "data": {
      "text/plain": [
       "Counter({2: 103516,\n",
       "         3: 72992,\n",
       "         5: 17096,\n",
       "         4: 36907,\n",
       "         6: 7046,\n",
       "         1: 32410,\n",
       "         8: 968,\n",
       "         7: 2458,\n",
       "         12: 57,\n",
       "         9: 448,\n",
       "         10: 228,\n",
       "         16: 4,\n",
       "         11: 96,\n",
       "         14: 12,\n",
       "         15: 6,\n",
       "         13: 9,\n",
       "         17: 2})"
      ]
     },
     "execution_count": 79,
     "metadata": {},
     "output_type": "execute_result"
    }
   ],
   "source": [
    "a"
   ]
  },
  {
   "cell_type": "markdown",
   "metadata": {},
   "source": [
    "## Fede fai andare tutte le celle ma guarda da qui"
   ]
  },
  {
   "cell_type": "code",
   "execution_count": 111,
   "metadata": {},
   "outputs": [
    {
     "data": {
      "text/plain": [
       "'kemah city us state texas southeast houston along west galveston bay the citys population located galveston county kemahs main industry shipping originally small fishing town city become tourist destination areas restaurants attractions contained within kemah entertainment district in fact kemah ranked top tourism spot greater houston area'"
      ]
     },
     "execution_count": 111,
     "metadata": {},
     "output_type": "execute_result"
    }
   ],
   "source": [
    "c.joined_corpus[575]"
   ]
  },
  {
   "cell_type": "code",
   "execution_count": 106,
   "metadata": {},
   "outputs": [
    {
     "data": {
      "text/plain": [
       "-1"
      ]
     },
     "execution_count": 106,
     "metadata": {},
     "output_type": "execute_result"
    }
   ],
   "source": [
    "c.joined_corpus[930].find('summer olympics')"
   ]
  },
  {
   "cell_type": "code",
   "execution_count": 107,
   "metadata": {},
   "outputs": [],
   "source": [
    "original = load_data_with_pickle('../../source_files/pickles/word_occurrence_index')"
   ]
  },
  {
   "cell_type": "code",
   "execution_count": 108,
   "metadata": {
    "scrolled": true
   },
   "outputs": [
    {
     "data": {
      "text/plain": [
       "{'': [(2, [328]),\n",
       "  (3, [83]),\n",
       "  (5, [130]),\n",
       "  (6, [63]),\n",
       "  (11, [73]),\n",
       "  (12, [372]),\n",
       "  (13, [357]),\n",
       "  (31, [840]),\n",
       "  (33, [104]),\n",
       "  (40, [477]),\n",
       "  (44, [130]),\n",
       "  (46, [118]),\n",
       "  (54, [442]),\n",
       "  (58, [169]),\n",
       "  (59, [157]),\n",
       "  (65, [75]),\n",
       "  (73, [529]),\n",
       "  (74, [65]),\n",
       "  (79, [7]),\n",
       "  (81, [151]),\n",
       "  (88, [871]),\n",
       "  (91, [382]),\n",
       "  (97, [277]),\n",
       "  (100, [281]),\n",
       "  (104, [82]),\n",
       "  (107, [2241]),\n",
       "  (110, [80]),\n",
       "  (111, [750]),\n",
       "  (115, [546]),\n",
       "  (117, [111]),\n",
       "  (118, [252]),\n",
       "  (120, [494]),\n",
       "  (124, [246]),\n",
       "  (125, [28]),\n",
       "  (127, [236]),\n",
       "  (136, [25]),\n",
       "  (142, [92]),\n",
       "  (147, [206]),\n",
       "  (149, [209]),\n",
       "  (150, [141]),\n",
       "  (151, [122]),\n",
       "  (152, [227]),\n",
       "  (155, [706]),\n",
       "  (167, [735]),\n",
       "  (169, [0]),\n",
       "  (171, [22]),\n",
       "  (179, [82]),\n",
       "  (183, [7]),\n",
       "  (184, [86]),\n",
       "  (188, [164]),\n",
       "  (190, [166]),\n",
       "  (193, [118]),\n",
       "  (197, [1012]),\n",
       "  (201, [278]),\n",
       "  (211, [110]),\n",
       "  (213, [610]),\n",
       "  (216, [5]),\n",
       "  (217, [152]),\n",
       "  (219, [77]),\n",
       "  (220, [1450]),\n",
       "  (225, [77]),\n",
       "  (227, [82]),\n",
       "  (229, [124]),\n",
       "  (240, [122]),\n",
       "  (249, [349]),\n",
       "  (250, [241]),\n",
       "  (253, [484]),\n",
       "  (255, [552]),\n",
       "  (256, [81]),\n",
       "  (257, [348]),\n",
       "  (258, [410]),\n",
       "  (260, [794]),\n",
       "  (262, [425]),\n",
       "  (263, [630]),\n",
       "  (264, [328]),\n",
       "  (269, [184]),\n",
       "  (273, [50]),\n",
       "  (274, [424]),\n",
       "  (275, [123]),\n",
       "  (276, [13]),\n",
       "  (287, [187]),\n",
       "  (293, [262]),\n",
       "  (294, [289]),\n",
       "  (296, [434]),\n",
       "  (302, [978]),\n",
       "  (304, [232]),\n",
       "  (305, [496]),\n",
       "  (307, [1021]),\n",
       "  (308, [71]),\n",
       "  (310, [267]),\n",
       "  (314, [9]),\n",
       "  (320, [89]),\n",
       "  (322, [94]),\n",
       "  (323, [154]),\n",
       "  (326, [100]),\n",
       "  (329, [39]),\n",
       "  (332, [114]),\n",
       "  (333, [193]),\n",
       "  (336, [172]),\n",
       "  (339, [362]),\n",
       "  (343, [538]),\n",
       "  (345, [209]),\n",
       "  (351, [91]),\n",
       "  (352, [87]),\n",
       "  (354, [0]),\n",
       "  (360, [494]),\n",
       "  (362, [61]),\n",
       "  (368, [234]),\n",
       "  (377, [109]),\n",
       "  (378, [73]),\n",
       "  (385, [69]),\n",
       "  (387, [266]),\n",
       "  (392, [193]),\n",
       "  (394, [142]),\n",
       "  (396, [464]),\n",
       "  (398, [379]),\n",
       "  (399, [267]),\n",
       "  (404, [240]),\n",
       "  (408, [575]),\n",
       "  (411, [447]),\n",
       "  (417, [135]),\n",
       "  (419, [329]),\n",
       "  (421, [370]),\n",
       "  (425, [1002]),\n",
       "  (427, [451]),\n",
       "  (434, [10]),\n",
       "  (436, [23]),\n",
       "  (437, [341]),\n",
       "  (442, [266]),\n",
       "  (449, [348]),\n",
       "  (450, [420]),\n",
       "  (451, [1190]),\n",
       "  (454, [109]),\n",
       "  (457, [242]),\n",
       "  (466, [369]),\n",
       "  (472, [14]),\n",
       "  (477, [1281]),\n",
       "  (478, [25]),\n",
       "  (489, [178]),\n",
       "  (501, [446]),\n",
       "  (503, [447]),\n",
       "  (505, [487]),\n",
       "  (516, [549]),\n",
       "  (518, [433]),\n",
       "  (520, [159]),\n",
       "  (522, [1772]),\n",
       "  (524, [133]),\n",
       "  (532, [184]),\n",
       "  (535, [298]),\n",
       "  (539, [561]),\n",
       "  (540, [116]),\n",
       "  (541, [666]),\n",
       "  (550, [204]),\n",
       "  (559, [475]),\n",
       "  (566, [0, 64]),\n",
       "  (579, [403]),\n",
       "  (583, [204]),\n",
       "  (584, [278]),\n",
       "  (585, [59]),\n",
       "  (586, [599]),\n",
       "  (589, [644]),\n",
       "  (592, [334]),\n",
       "  (594, [234]),\n",
       "  (595, [633]),\n",
       "  (598, [1710]),\n",
       "  (599, [16]),\n",
       "  (614, [127]),\n",
       "  (616, [133]),\n",
       "  (618, [123]),\n",
       "  (619, [309]),\n",
       "  (622, [168]),\n",
       "  (629, [166]),\n",
       "  (635, [281]),\n",
       "  (638, [394]),\n",
       "  (642, [90]),\n",
       "  (651, [161]),\n",
       "  (652, [881]),\n",
       "  (653, [49]),\n",
       "  (658, [87]),\n",
       "  (661, [1132]),\n",
       "  (662, [20]),\n",
       "  (669, [96]),\n",
       "  (673, [199]),\n",
       "  (676, [97]),\n",
       "  (678, [309]),\n",
       "  (679, [635]),\n",
       "  (684, [14]),\n",
       "  (689, [174]),\n",
       "  (693, [607]),\n",
       "  (695, [191]),\n",
       "  (705, [587]),\n",
       "  (712, [160]),\n",
       "  (717, [69]),\n",
       "  (721, [112]),\n",
       "  (747, [248]),\n",
       "  (751, [98]),\n",
       "  (758, [1293]),\n",
       "  (764, [222]),\n",
       "  (772, [473]),\n",
       "  (773, [1269]),\n",
       "  (777, [60]),\n",
       "  (780, [404]),\n",
       "  (781, [295]),\n",
       "  (783, [849]),\n",
       "  (785, [1134]),\n",
       "  (791, [355]),\n",
       "  (794, [819]),\n",
       "  (800, [159]),\n",
       "  (801, [31]),\n",
       "  (810, [51]),\n",
       "  (811, [367]),\n",
       "  (812, [363]),\n",
       "  (820, [290]),\n",
       "  (822, [1143]),\n",
       "  (826, [436]),\n",
       "  (829, [149]),\n",
       "  (832, [221]),\n",
       "  (846, [38]),\n",
       "  (848, [55]),\n",
       "  (854, [16]),\n",
       "  (871, [536]),\n",
       "  (878, [237]),\n",
       "  (879, [245]),\n",
       "  (886, [200]),\n",
       "  (890, [642]),\n",
       "  (892, [78]),\n",
       "  (899, [145]),\n",
       "  (900, [377]),\n",
       "  (902, [148]),\n",
       "  (904, [152]),\n",
       "  (905, [333]),\n",
       "  (909, [914]),\n",
       "  (911, [292]),\n",
       "  (923, [318]),\n",
       "  (928, [168]),\n",
       "  (929, [182]),\n",
       "  (936, [161]),\n",
       "  (943, [160]),\n",
       "  (949, [261]),\n",
       "  (951, [167]),\n",
       "  (953, [237]),\n",
       "  (956, [554]),\n",
       "  (959, [177]),\n",
       "  (965, [1331]),\n",
       "  (966, [380]),\n",
       "  (967, [1795]),\n",
       "  (975, [126]),\n",
       "  (977, [406]),\n",
       "  (980, [503]),\n",
       "  (988, [168]),\n",
       "  (989, [11]),\n",
       "  (992, [729]),\n",
       "  (993, [93])],\n",
       " 'w': [(258, [167]),\n",
       "  (263, [360]),\n",
       "  (543, [145]),\n",
       "  (551, [398]),\n",
       "  (623, [21]),\n",
       "  (677, [145]),\n",
       "  (688, [389, 393, 401, 405, 413, 417]),\n",
       "  (887, [209]),\n",
       "  (924, [15, 19])],\n",
       " 'cat stevens': [(558, [448])],\n",
       " 'ferrari': [(7, [93]), (575, [890, 921, 970])],\n",
       " 'lotus': [(575, [837, 1432, 1460, 1516])],\n",
       " 'feature film': [(38, [190]), (374, [148]), (604, [774, 799])],\n",
       " 'antipolo': [(109, [4])],\n",
       " 'bata equatorial guinea': [(582, [33])],\n",
       " 'remake': [(804, [146])],\n",
       " 'renault': [(575, [1132]), (752, [66])],\n",
       " 'pga championship': [(800, [4, 24])],\n",
       " 'april': [(98, [14]),\n",
       "  (163, [11]),\n",
       "  (175, [23]),\n",
       "  (200, [290]),\n",
       "  (204, [81, 107, 155]),\n",
       "  (226, [153]),\n",
       "  (294, [274]),\n",
       "  (322, [17]),\n",
       "  (347, [15]),\n",
       "  (360, [488]),\n",
       "  (384, [19]),\n",
       "  (398, [41]),\n",
       "  (403, [19]),\n",
       "  (432, [22]),\n",
       "  (461, [23]),\n",
       "  (483, [49]),\n",
       "  (511, [267, 419]),\n",
       "  (540, [36]),\n",
       "  (576, [57]),\n",
       "  (595, [496]),\n",
       "  (657, [21]),\n",
       "  (661, [630, 664]),\n",
       "  (673, [30]),\n",
       "  (678, [33]),\n",
       "  (683, [22]),\n",
       "  (691, [22]),\n",
       "  (724, [36]),\n",
       "  (764, [147]),\n",
       "  (766, [241]),\n",
       "  (785, [616]),\n",
       "  (787, [632]),\n",
       "  (813, [448]),\n",
       "  (890, [636]),\n",
       "  (934, [12]),\n",
       "  (952, [29]),\n",
       "  (998, [165])],\n",
       " 'computer science': [(837, [100])],\n",
       " 'lala': [(218, [73, 104])],\n",
       " 'mar': [(878, [8, 87, 105, 204])],\n",
       " 'gasoline gallon equivalent': [(466, [0])],\n",
       " 'january': [(4, [43]),\n",
       "  (25, [13]),\n",
       "  (39, [819]),\n",
       "  (105, [20]),\n",
       "  (118, [19]),\n",
       "  (141, [18]),\n",
       "  (177, [17]),\n",
       "  (179, [40]),\n",
       "  (188, [18]),\n",
       "  (200, [208]),\n",
       "  (203, [21]),\n",
       "  (207, [264]),\n",
       "  (224, [209]),\n",
       "  (232, [32, 495]),\n",
       "  (242, [29]),\n",
       "  (265, [286]),\n",
       "  (299, [46]),\n",
       "  (302, [111, 258]),\n",
       "  (315, [286, 355]),\n",
       "  (340, [123]),\n",
       "  (379, [345]),\n",
       "  (423, [26]),\n",
       "  (432, [536]),\n",
       "  (456, [271]),\n",
       "  (457, [57]),\n",
       "  (463, [219]),\n",
       "  (504, [23]),\n",
       "  (539, [19]),\n",
       "  (576, [49]),\n",
       "  (579, [338]),\n",
       "  (601, [18, 262]),\n",
       "  (617, [102]),\n",
       "  (672, [22]),\n",
       "  (679, [14]),\n",
       "  (694, [510]),\n",
       "  (710, [14]),\n",
       "  (747, [240]),\n",
       "  (750, [34]),\n",
       "  (783, [737]),\n",
       "  (785, [728]),\n",
       "  (806, [21]),\n",
       "  (866, [463]),\n",
       "  (869, [68]),\n",
       "  (871, [528]),\n",
       "  (888, [13]),\n",
       "  (919, [19]),\n",
       "  (986, [29])]}"
      ]
     },
     "execution_count": 108,
     "metadata": {},
     "output_type": "execute_result"
    }
   ],
   "source": [
    "original"
   ]
  },
  {
   "cell_type": "markdown",
   "metadata": {},
   "source": [
    "## a qui"
   ]
  },
  {
   "cell_type": "code",
   "execution_count": 44,
   "metadata": {},
   "outputs": [],
   "source": [
    "# create a unique dict\n",
    "a_dict = {k:v for elem in a for k,v in elem.items()}\n",
    "found_entities = set(a_dict.keys())\n",
    "\n",
    "found_entity_dict = {k: set(v).intersection(found_entities) for k,v in entity_dict.items() if set(v).intersection(found_entities)}"
   ]
  },
  {
   "cell_type": "code",
   "execution_count": 45,
   "metadata": {},
   "outputs": [
    {
     "data": {
      "text/plain": [
       "{'Settlement': {'bologna',\n",
       "  'brooklyn',\n",
       "  'ghent',\n",
       "  'haikou',\n",
       "  'koszalin',\n",
       "  'la ceiba',\n",
       "  'liverpool',\n",
       "  'philadelphia',\n",
       "  'stade'},\n",
       " 'City': {'angul',\n",
       "  'bologna',\n",
       "  'brooklyn',\n",
       "  'ghent',\n",
       "  'haikou',\n",
       "  'ilo',\n",
       "  'kladno',\n",
       "  'koszalin',\n",
       "  'la ceiba',\n",
       "  'liverpool',\n",
       "  'metropolis',\n",
       "  'philadelphia',\n",
       "  'stade'},\n",
       " 'Town': {'stade'},\n",
       " 'Animal': {'gunda'},\n",
       " 'Insect': {'gunda'},\n",
       " 'Place': {'bologna',\n",
       "  'brooklyn',\n",
       "  'ghent',\n",
       "  'haikou',\n",
       "  'koszalin',\n",
       "  'liverpool',\n",
       "  'philadelphia'},\n",
       " 'PopulatedPlace': {'bologna',\n",
       "  'brooklyn',\n",
       "  'ghent',\n",
       "  'haikou',\n",
       "  'koszalin',\n",
       "  'la ceiba',\n",
       "  'liverpool',\n",
       "  'philadelphia',\n",
       "  'stade'}}"
      ]
     },
     "execution_count": 45,
     "metadata": {},
     "output_type": "execute_result"
    }
   ],
   "source": [
    "found_entity_dict"
   ]
  },
  {
   "cell_type": "code",
   "execution_count": null,
   "metadata": {},
   "outputs": [],
   "source": []
  }
 ],
 "metadata": {
  "kernelspec": {
   "display_name": "Python 3.7.6 64-bit ('MTNCI': conda)",
   "language": "python",
   "name": "python37664bitmtncicondad1aa09012c6f4676a7e50dc769fdaa25"
  },
  "language_info": {
   "codemirror_mode": {
    "name": "ipython",
    "version": 3
   },
   "file_extension": ".py",
   "mimetype": "text/x-python",
   "name": "python",
   "nbconvert_exporter": "python",
   "pygments_lexer": "ipython3",
   "version": "3.6.10"
  }
 },
 "nbformat": 4,
 "nbformat_minor": 2
}
